{
 "cells": [
  {
   "cell_type": "code",
   "execution_count": null,
   "metadata": {},
   "outputs": [],
   "source": [
    "from pylab import *\n",
    "import matplotlib\n",
    "import matplotlib.colors"
   ]
  },
  {
   "cell_type": "code",
   "execution_count": null,
   "metadata": {},
   "outputs": [],
   "source": [
    "names = ['meshk','mesh','vertsk','verts','icp'] #,'areas'\n",
    "#data_20k_fullverts/ #data_monday_final_k100/\n",
    "for namef in ['arma','bunny','dragon','happy','lucy']:\n",
    "    res = [np.loadtxt('./{}_{}2.csv'.format(namef,n),delimiter=',') for n in names]\n",
    "\n",
    "\n",
    "    angle_errors = []\n",
    "    for result in res:\n",
    "        #new_res = np.minimum(2*np.arccos(result[:,0]),2*np.arccos(-result[:,0]))\n",
    "        new_res = np.clip(2*result[:,0]**2-1,1e-9,1-1e-9)\n",
    "        new_res =np.arccos(new_res)\n",
    "        new_res[np.isnan(new_res)] = np.pi\n",
    "        angle_errors.append(new_res*180.0/np.pi)\n",
    "    print(namef)\n",
    "    #print((angle_errors[2].mean()-angle_errors[0].mean())/angle_errors[2].mean() *100)\n",
    "    #print((res[2][:,1].mean()-res[0][:,1].mean())/res[2][:,1].mean() * 100)\n",
    "    print((angle_errors[2].mean())/angle_errors[4].mean() *100)\n",
    "    print((angle_errors[0].mean())/angle_errors[4].mean() *100)\n",
    "\n",
    "    print((res[2][:,1].mean())/res[4][:,1].mean() *100)\n",
    "    print((res[0][:,1].mean())/res[4][:,1].mean() *100)\n",
    "\n",
    "names[0] = 'mesh\\n(kmeans)'\n",
    "names[1] = 'mesh\\n(random)'\n",
    "#names[2] = 'mesh (a)\\n(kmeans)'\n",
    "names[2] = 'points\\n(kmeans)'\n",
    "names[3] = 'points\\n(random)'"
   ]
  },
  {
   "cell_type": "code",
   "execution_count": null,
   "metadata": {},
   "outputs": [],
   "source": [
    "for x,l in zip(res,names):\n",
    "    plt.scatter(np.sqrt(x[:,0]**2),x[:,1],label=l,s=100,alpha=0.5)\n",
    "plt.legend()\n",
    "plt.xlabel('rotation error')\n",
    "plt.ylabel('translation error')\n"
   ]
  },
  {
   "cell_type": "code",
   "execution_count": null,
   "metadata": {},
   "outputs": [],
   "source": []
  },
  {
   "cell_type": "code",
   "execution_count": null,
   "metadata": {},
   "outputs": [],
   "source": []
  },
  {
   "cell_type": "code",
   "execution_count": null,
   "metadata": {},
   "outputs": [],
   "source": []
  },
  {
   "cell_type": "code",
   "execution_count": null,
   "metadata": {},
   "outputs": [],
   "source": [
    "res[2].mean(0)"
   ]
  },
  {
   "cell_type": "code",
   "execution_count": null,
   "metadata": {},
   "outputs": [],
   "source": [
    "from matplotlib import rc\n",
    "plt.style.use('fivethirtyeight')\n",
    "plt.style.use('seaborn-white')\n",
    "#plt.rcParams[\"font.family\"] = \"sans-serif\"\n",
    "rc('font',**{'family':'sans-serif','sans-serif':['cm']})\n",
    "#plt.rcParams['font.sans-serif'] = ['Helvetica']\n",
    "fig = plt.figure(figsize=(15,6))\n",
    "plt.subplot(1,2,1)\n",
    "model_scale = np.sqrt((0.1513)**2 + (0.1483)**2 + (0.1144)**2)\n",
    "\n",
    "angle_errors = []\n",
    "for result in res:\n",
    "    #new_res = np.minimum(2*np.arccos(result[:,0]),2*np.arccos(-result[:,0]))\n",
    "    new_res = np.clip(2*result[:,0]**2-1,1e-9,1-1e-9)\n",
    "    new_res =np.arccos(new_res)\n",
    "    new_res[np.isnan(new_res)] = np.pi\n",
    "    angle_errors.append(new_res*180.0/np.pi)\n",
    "\n",
    "plt.boxplot([_ for _ in angle_errors],labels=names,notch=True,flierprops={'marker':''},medianprops={'color':'k'})\n",
    "plt.title('rotation error')\n",
    "plt.ylabel('degrees')\n",
    "#plt.ylim(0,.05)\n",
    "#plt.ylim(top=4,bottom=0)\n",
    "plt.ylim(bottom=0)\n",
    "for i,err in enumerate(res):\n",
    "    y = angle_errors[i]\n",
    "    x = np.random.normal(i+1, 0.05, size=len(y))\n",
    "    p = plt.plot(x,y,'.',alpha=0.3)\n",
    "    plt_color = matplotlib.colors.hex2color(p[0].get_color())\n",
    "    clr2 = tuple(np.array(plt_color)*0.5)\n",
    "    plt.plot(i+1,y.mean(),'.',c=plt_color,ms=20,alpha=0.8,mec=clr2,lw=1.0)\n",
    "plt.ylim(top=5.5)\n",
    "plt.grid(True,axis='y')\n",
    "plt.subplot(1,2,2)\n",
    "\n",
    "plt.boxplot([_[:,1]/model_scale * 100 for _ in res],labels=names,notch=True,flierprops={'marker':''},medianprops={'color':'k'})\n",
    "#plt.ylim(0,0.01)\n",
    "plt.title('position error')\n",
    "plt.ylabel('percent of model scale')\n",
    "#print([2*np.arccos(abs(_[:,0])).mean() for _ in res])\n",
    "print([_.mean() for _ in angle_errors])\n",
    "\n",
    "print([_[:,1].mean() for _ in res])\n",
    "#print([2*np.arccos(abs(_[:,0])).max() for _ in res])\n",
    "\n",
    "plt.ylim(bottom=0)\n",
    "for i,err in enumerate(res):\n",
    "    y = err[:,1]/model_scale * 100\n",
    "    x = np.random.normal(i+1, 0.05, size=len(y))\n",
    "    p = plt.plot(x,y,'.',alpha=0.3)\n",
    "    plt_color = matplotlib.colors.hex2color(p[0].get_color())\n",
    "    clr2 = tuple(np.array(plt_color)*0.5)\n",
    "    plt.plot(i+1,y.mean(),'.',c=plt_color,ms=20,alpha=0.8,mec=clr2,lw=1.0)\n",
    "#plt.ylim(top=0.025/0.05)\n",
    "plt.ylim(top=1.1)\n",
    "plt.grid(True,axis='y')\n",
    "plt.tight_layout()\n",
    "\n",
    "\n",
    "fig.savefig('new-viz-k100_2.pdf', facecolor=fig.get_facecolor(), edgecolor='none')"
   ]
  },
  {
   "cell_type": "code",
   "execution_count": null,
   "metadata": {},
   "outputs": [],
   "source": [
    "plt.rcParams"
   ]
  },
  {
   "cell_type": "code",
   "execution_count": null,
   "metadata": {},
   "outputs": [],
   "source": []
  }
 ],
 "metadata": {
  "kernelspec": {
   "display_name": "Python 3",
   "language": "python",
   "name": "python3"
  },
  "language_info": {
   "codemirror_mode": {
    "name": "ipython",
    "version": 3
   },
   "file_extension": ".py",
   "mimetype": "text/x-python",
   "name": "python",
   "nbconvert_exporter": "python",
   "pygments_lexer": "ipython3",
   "version": "3.6.7"
  }
 },
 "nbformat": 4,
 "nbformat_minor": 2
}
