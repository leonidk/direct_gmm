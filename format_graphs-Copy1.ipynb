{
 "cells": [
  {
   "cell_type": "code",
   "execution_count": null,
   "metadata": {},
   "outputs": [],
   "source": [
    "import numpy as np\n",
    "import matplotlib.pyplot as plt\n",
    "import pandas as pd\n",
    "import matplotlib.ticker"
   ]
  },
  {
   "cell_type": "code",
   "execution_count": null,
   "metadata": {},
   "outputs": [],
   "source": [
    "df = pd.read_csv(\"arma.log\",names=['k','init','model','l','i'])\n",
    "mdf2 = df.groupby(['init','model','k']).mean()\n",
    "sdf2 = df.groupby(['init','model','k']).std()\n",
    "mdf = df.groupby(['init','model','k']).mean()\n",
    "sdf = df.groupby(['init','model','k']).std()"
   ]
  },
  {
   "cell_type": "code",
   "execution_count": null,
   "metadata": {},
   "outputs": [],
   "source": [
    "pltstuff = 1\n",
    "\n",
    "fig = plt.figure(figsize=(10,pltstuff*5))\n",
    "from matplotlib import rc\n",
    "plt.style.use('fivethirtyeight')\n",
    "plt.style.use('seaborn-whitegrid')\n",
    "if pltstuff == 2:\n",
    "    subplot_order = [1,3,2,4]\n",
    "else:\n",
    "    subplot_order = [1,2]\n",
    "#plt.rcParams[\"font.family\"] = \"sans-serif\"\n",
    "rc('font',**{'family':'sans-serif','sans-serif':['cm']})\n",
    "#plt.style.use('default')\n",
    "for ii, init in enumerate(['kmeans']):\n",
    "    for model in range(4):\n",
    "        ls = '--' if model < 2 else '-'\n",
    "        if model == 0:\n",
    "            label = 'Mesh (Quadric)'\n",
    "        if model == 1:\n",
    "            label = 'Mesh (Cluster)'\n",
    "        if model == 2:\n",
    "            label = 'Points (Poisson)'\n",
    "        if model == 3:\n",
    "            label = 'Points (Random)'\n",
    "        if init == 'kmeans':\n",
    "            x = np.array(mdf2.loc[('kmeans',0),].index)\n",
    "            y = mdf2.loc[(init,model),].values[:,0]\n",
    "            error = sdf2.loc[(init,model),].values[:,0]\n",
    "        else:\n",
    "            x = np.array(mdf.loc[('random',0),].index)\n",
    "\n",
    "            y = mdf.loc[(init,model),].values[:,0]\n",
    "            error = sdf.loc[(init,model),].values[:,0]\n",
    "\n",
    "        ax = plt.subplot(pltstuff,2,subplot_order[pltstuff*ii])\n",
    "        #print(x.shape,y.shape)\n",
    "\n",
    "        plt.plot(x,y,ls=ls,label=label)\n",
    "        plt.fill_between(x, y-error, y+error,alpha=0.3)\n",
    "        plt.grid(True)\n",
    "        plt.xlabel('number of mixtures')\n",
    "        plt.title('{} init. fidelity'.format(init))\n",
    "        plt.title('{} initialization'.format(init))\n",
    "\n",
    "        plt.ylabel('likelihood of ground truth\\n(higher is better)')\n",
    "        plt.ylim(2,9)\n",
    "        ax.set_xscale(\"log\", nonposx='clip')\n",
    "        ax.tick_params(axis='x', which='minor', bottom=True,width=1,length=5)   \n",
    "        plt.grid(True,axis='x',which='minor')\n",
    "        ax.tick_params(axis='x', which='major', bottom=True,width=2,length=5)   \n",
    "\n",
    "        if pltstuff == 2:\n",
    "            if init == 'kmeans':\n",
    "                y = mdf2.loc[(init,model),].values[:,1]\n",
    "                error = sdf2.loc[(init,model),].values[:,1]\n",
    "            else:\n",
    "                #x = np.array(mdf.loc[('random',0),].index)\n",
    "\n",
    "                #x = np.array(mdf.index)\n",
    "                y = mdf.loc[(init,model),].values[:,1]\n",
    "                error = sdf.loc[(init,model),].values[:,1]\n",
    "            ax = plt.subplot(pltstuff,2,subplot_order[1+ii*2])\n",
    "            print(x.shape,y.shape)\n",
    "            plt.plot(x,y,ls=ls,label=label)\n",
    "            plt.fill_between(x, y-error, y+error,alpha=0.15)\n",
    "\n",
    "            ax.set_xscale(\"log\", nonposx='clip')\n",
    "            plt.grid(True)\n",
    "            plt.xlabel('number of mixtures')\n",
    "            plt.title('{} init. runtime'.format(init))\n",
    "            plt.ylabel('iterations until convergence')\n",
    "            ax.tick_params(axis='x', which='minor', bottom=True,width=1,length=5)   \n",
    "            plt.grid(True,axis='x',which='minor')\n",
    "            ax.tick_params(axis='x', which='major', bottom=True,width=2,length=5)   \n",
    "\n",
    "for i in range(2*pltstuff):\n",
    "    plt.subplot(pltstuff,2,1+i)\n",
    "    plt.legend()\n",
    "    plt.xlim(6,500)\n",
    "\n",
    "\n",
    "fig.tight_layout()\n",
    "fig.subplots_adjust(top=0.7+pltstuff*0.1)\n",
    "\n",
    "plt.suptitle('Different Decimation Methods',size=24,weight='bold')\n",
    "#plt.savefig('graphs-qc.pdf', facecolor=fig.get_facecolor(), edgecolor='none')\n"
   ]
  },
  {
   "cell_type": "code",
   "execution_count": null,
   "metadata": {},
   "outputs": [],
   "source": [
    "mdf2.loc[('kmeans',0),].values, np.array(mdf2.loc[('kmeans',0),].index)"
   ]
  },
  {
   "cell_type": "code",
   "execution_count": null,
   "metadata": {},
   "outputs": [],
   "source": [
    "mdf2,mdf"
   ]
  },
  {
   "cell_type": "code",
   "execution_count": null,
   "metadata": {},
   "outputs": [],
   "source": []
  }
 ],
 "metadata": {
  "kernelspec": {
   "display_name": "Python 3",
   "language": "python",
   "name": "python3"
  },
  "language_info": {
   "codemirror_mode": {
    "name": "ipython",
    "version": 3
   },
   "file_extension": ".py",
   "mimetype": "text/x-python",
   "name": "python",
   "nbconvert_exporter": "python",
   "pygments_lexer": "ipython3",
   "version": "3.6.7"
  }
 },
 "nbformat": 4,
 "nbformat_minor": 2
}
