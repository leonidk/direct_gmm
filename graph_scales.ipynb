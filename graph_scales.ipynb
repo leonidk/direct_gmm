{
 "cells": [
  {
   "cell_type": "code",
   "execution_count": null,
   "metadata": {},
   "outputs": [],
   "source": [
    "import numpy as np\n",
    "import matplotlib.pyplot as plt\n",
    "import pandas as pd"
   ]
  },
  {
   "cell_type": "code",
   "execution_count": null,
   "metadata": {},
   "outputs": [],
   "source": [
    "df = pd.read_csv(\"bunny_fit_extra7.log\",names=['k','init','model','l','i','scale'])\n",
    "mdf = df.groupby(['init','model','scale','k']).mean()\n",
    "sdf = df.groupby(['init','model','scale','k']).std()\n"
   ]
  },
  {
   "cell_type": "code",
   "execution_count": null,
   "metadata": {},
   "outputs": [],
   "source": [
    "fig = plt.figure(figsize=(10,10))\n",
    "for ii, init in enumerate(['kmeans','random']):\n",
    "    for model in range(1):\n",
    "        for scale in sorted(df.scale.unique()):\n",
    "            ls = '--' if model < 1 else '-'\n",
    "            if model == 0:\n",
    "                label = 'Triangles scale: e^{0:.1f}'.format(np.log(scale))\n",
    "            if model == 1:\n",
    "                label = 'Center of Mass'\n",
    "            if model == 2:\n",
    "                label = 'Vertices'\n",
    "            ldf = mdf.loc[(init,model,scale),]\n",
    "            x = np.array(ldf.index)\n",
    "\n",
    "            y = ldf.values[:,0]\n",
    "            error = 2*sdf.loc[(init,model,scale),].values[:,0]\n",
    "\n",
    "            ax = plt.subplot(2,2,1+ii*2)\n",
    "            plt.plot(x,y,ls=ls,label=label)\n",
    "            plt.fill_between(x, y-error, y+error,alpha=0.3)\n",
    "            plt.grid(True)\n",
    "            plt.xlabel('number of mixtures (m)')\n",
    "            plt.title('{} initialization'.format(init))\n",
    "            plt.ylabel('likelihood of ground truth ')\n",
    "            plt.ylim(2,9)\n",
    "            ax.set_xscale(\"log\", nonposx='clip')\n",
    "\n",
    "            y = ldf.values[:,1]\n",
    "            error = sdf.loc[(init,model,scale),].values[:,1]\n",
    "\n",
    "            ax = plt.subplot(2,2,2+ii*2)\n",
    "            plt.plot(x,y,ls=ls,label=label)\n",
    "            plt.fill_between(x, y-error, y+error,alpha=0.15)\n",
    "\n",
    "            ax.set_xscale(\"log\", nonposx='clip')\n",
    "            plt.grid(True)\n",
    "            plt.xlabel('number of mixtures (m)')\n",
    "            plt.title('{} initialization'.format(init))\n",
    "            plt.ylabel('iterations until convergence')\n",
    "            #plt.subplot(2,2,3)\n",
    "            #plt.subplot(2,2,4)\n",
    "for i in range(4):\n",
    "    plt.subplot(2,2,1+i)\n",
    "    plt.legend()\n",
    "fig.subplots_adjust(wspace=0.3,hspace=0.3)\n",
    "plt.savefig('graphs7.pdf')"
   ]
  },
  {
   "cell_type": "code",
   "execution_count": null,
   "metadata": {},
   "outputs": [],
   "source": [
    "mdf.loc[('kmeans',0),].values, np.array(mdf.loc[('kmeans',0),].index)"
   ]
  },
  {
   "cell_type": "code",
   "execution_count": null,
   "metadata": {},
   "outputs": [],
   "source": [
    "df2"
   ]
  },
  {
   "cell_type": "code",
   "execution_count": null,
   "metadata": {},
   "outputs": [],
   "source": []
  }
 ],
 "metadata": {
  "kernelspec": {
   "display_name": "Python 3",
   "language": "python",
   "name": "python3"
  },
  "language_info": {
   "codemirror_mode": {
    "name": "ipython",
    "version": 3
   },
   "file_extension": ".py",
   "mimetype": "text/x-python",
   "name": "python",
   "nbconvert_exporter": "python",
   "pygments_lexer": "ipython3",
   "version": "3.6.7"
  }
 },
 "nbformat": 4,
 "nbformat_minor": 2
}
