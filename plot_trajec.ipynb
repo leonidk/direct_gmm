{
 "cells": [
  {
   "cell_type": "code",
   "execution_count": null,
   "metadata": {},
   "outputs": [],
   "source": [
    "from pylab import *"
   ]
  },
  {
   "cell_type": "code",
   "execution_count": null,
   "metadata": {},
   "outputs": [],
   "source": [
    "normal_path = np.loadtxt('normal_traj.txt')[:,1:]\n",
    "patch_path = np.loadtxt('patch_traj.txt')[:,1:]\n",
    "icp_path = np.loadtxt('icp_traj.txt')[:,1:]\n",
    "icp2k_path = np.loadtxt('icp2k_traj.txt')[:,1:]\n",
    "\n",
    "gt_path = np.loadtxt('rgbd_dataset_freiburg3_long_office_household-groundtruth.txt')[:,1:4]"
   ]
  },
  {
   "cell_type": "code",
   "execution_count": null,
   "metadata": {},
   "outputs": [],
   "source": [
    "if False:\n",
    "    gt_path = gt_path - gt_path[0]\n",
    "    test_path = np.loadtxt('gmm_res_normal_nodet.txt')[:,1:4]\n",
    "    test_path.shape\n",
    "    test_path = test_path[:,[0,2,1]]\n",
    "    normal_path = test_path  - gt_path[0]\n",
    "\n",
    "    test_path = np.loadtxt('gmm_res_patch_nodet.txt')[:,1:4]\n",
    "    test_path.shape\n",
    "    test_path = test_path[:,[0,2,1]]\n",
    "    patch_path = test_path - gt_path[0]\n"
   ]
  },
  {
   "cell_type": "code",
   "execution_count": null,
   "metadata": {},
   "outputs": [],
   "source": [
    "from matplotlib import rc\n",
    "plt.style.use('fivethirtyeight')\n",
    "plt.style.use('seaborn-white')\n",
    "plt.rcParams[\"font.family\"] = \"sans-serif\"\n",
    "rc('font',**{'family':'sans-serif','sans-serif':['cm']})\n",
    "fig = plt.figure(figsize=(10,10))\n",
    "\n",
    "for lbl,path in zip(['GMM','ICP','Ground Truth'],[patch_path,icp2k_path,gt_path]):\n",
    "    if 'Truth' in lbl:\n",
    "        plt.plot(path[:,0],path[:,1],label=lbl,color='k')\n",
    "    else:\n",
    "        plt.plot(path[:,0],path[:,1],label=lbl)\n",
    "plt.xlabel('x location (m)')\n",
    "plt.ylabel('y location (m)')\n",
    "plt.legend(frameon=True,edgecolor='k')\n",
    "plt.tight_layout()\n",
    "\n",
    "# Hide the right and top spines\n",
    "plt.gca().spines['right'].set_visible(False)\n",
    "plt.gca().spines['top'].set_visible(False)\n",
    "\n",
    "# Only show ticks on the left and bottom spines\n",
    "plt.gca().yaxis.set_ticks_position('left')\n",
    "plt.gca().xaxis.set_ticks_position('bottom')\n",
    "fig.savefig('slam2.pdf', facecolor=fig.get_facecolor(), edgecolor='none')"
   ]
  },
  {
   "cell_type": "code",
   "execution_count": null,
   "metadata": {},
   "outputs": [],
   "source": [
    "gt_path[0]"
   ]
  },
  {
   "cell_type": "code",
   "execution_count": null,
   "metadata": {},
   "outputs": [],
   "source": []
  }
 ],
 "metadata": {
  "kernelspec": {
   "display_name": "Python 3",
   "language": "python",
   "name": "python3"
  },
  "language_info": {
   "codemirror_mode": {
    "name": "ipython",
    "version": 3
   },
   "file_extension": ".py",
   "mimetype": "text/x-python",
   "name": "python",
   "nbconvert_exporter": "python",
   "pygments_lexer": "ipython3",
   "version": "3.6.7"
  }
 },
 "nbformat": 4,
 "nbformat_minor": 2
}
