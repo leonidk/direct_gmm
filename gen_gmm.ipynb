{
 "cells": [
  {
   "cell_type": "code",
   "execution_count": null,
   "metadata": {},
   "outputs": [],
   "source": [
    "from pylab import *\n",
    "import os\n",
    "import sys\n",
    "from sklearn.mixture import GaussianMixture\n",
    "import pickle\n",
    "from PIL import Image"
   ]
  },
  {
   "cell_type": "code",
   "execution_count": null,
   "metadata": {},
   "outputs": [],
   "source": [
    "dataset_dir = 'rgbd_dataset_freiburg3_long_office_household'\n",
    "depth_dir = 'depth'\n",
    "gmm_dir = 'gmm_qqvga'\n",
    "\n",
    "# og \n",
    "fx = 525.0  # focal length x\n",
    "fy = 525.0  # focal length y\n",
    "cx = 319.5  # optical center x\n",
    "cy = 239.5  # optical center y\n",
    "\n",
    "# fri3 \n",
    "fx = 535.4  # focal length x\n",
    "fy = 539.2  # focal length y\n",
    "cx = 320.1  # optical center x\n",
    "cy = 247.6  # optical center y\n",
    "factor = 5000 # for the 16-bit PNG files\n",
    "# OR: factor = 1 # for the 32-bit float images in the ROS bag files\n",
    "\n",
    "full_depth_dir = os.path.join(dataset_dir,depth_dir)\n",
    "full_gmm_dir = os.path.join(dataset_dir,gmm_dir)\n",
    "if not os.path.exists(full_gmm_dir):\n",
    "    os.mkdir(full_gmm_dir)"
   ]
  },
  {
   "cell_type": "code",
   "execution_count": null,
   "metadata": {},
   "outputs": [],
   "source": [
    "y_grid = np.repeat(np.arange(480)[:,None],640,1)\n",
    "x_grid = np.repeat(np.arange(640)[None,:],480,0)\n",
    "\n",
    "def img_to_pts(img):\n",
    "    Z = img/factor\n",
    "    X = (x_grid-cx) * Z /fx\n",
    "    Y = (y_grid-cy) * Z /fy\n",
    "    #for v in range(depth_image.height):\n",
    "    #  for u in range(depth_image.width):\n",
    "    #    Z = depth_image[v,u] / factor;\n",
    "    #    X = (u - cx) * Z / fx;\n",
    "    #    Y = (v - cy) * Z / fy;\n",
    "    X = X[::4,::4]\n",
    "    Y = Y[::4,::4]\n",
    "    Z = Z[::4,::4]\n",
    "    print(X.shape)\n",
    "\n",
    "    xl = X[Z > 0]\n",
    "    yl = Y[Z > 0]\n",
    "    zl = Z[Z > 0]\n",
    "    n = zl.shape[0]\n",
    "    print(n)\n",
    "    idx = np.random.randint(n, size=n//16)\n",
    "\n",
    "    return np.vstack([xl,yl,zl]).T\n",
    "\n",
    "def load_data(file):\n",
    "    image = Image.open(file)   \n",
    "    pixel = np.array(image)\n",
    "    return img_to_pts(pixel)\n",
    "\n",
    "for fl in sorted(os.listdir(full_depth_dir)):\n",
    "    name,ext = os.path.splitext(fl)\n",
    "    new_name = name + '.pkl'\n",
    "    \n",
    "    clf = GaussianMixture(100)\n",
    "    data = load_data(os.path.join(full_depth_dir,fl))\n",
    "    t1 = time.time()\n",
    "    clf.fit(data)\n",
    "    print(time.time()-t1)\n",
    "    with open(os.path.join(full_gmm_dir,new_name),'wb') as fp:\n",
    "        pickle.dump(clf,fp)\n",
    "    "
   ]
  },
  {
   "cell_type": "code",
   "execution_count": null,
   "metadata": {},
   "outputs": [],
   "source": [
    "name,ext"
   ]
  },
  {
   "cell_type": "code",
   "execution_count": null,
   "metadata": {},
   "outputs": [],
   "source": []
  }
 ],
 "metadata": {
  "kernelspec": {
   "display_name": "Python 3",
   "language": "python",
   "name": "python3"
  },
  "language_info": {
   "codemirror_mode": {
    "name": "ipython",
    "version": 3
   },
   "file_extension": ".py",
   "mimetype": "text/x-python",
   "name": "python",
   "nbconvert_exporter": "python",
   "pygments_lexer": "ipython3",
   "version": "3.6.7"
  }
 },
 "nbformat": 4,
 "nbformat_minor": 2
}
