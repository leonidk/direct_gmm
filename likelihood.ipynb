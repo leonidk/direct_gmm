{
 "cells": [
  {
   "cell_type": "code",
   "execution_count": null,
   "metadata": {},
   "outputs": [],
   "source": [
    "import pandas as pd\n",
    "import matplotlib.pyplot as plt\n",
    "import numpy as np"
   ]
  },
  {
   "cell_type": "code",
   "execution_count": null,
   "metadata": {},
   "outputs": [],
   "source": [
    "fp1 = pd.read_csv('full_probs.log',delimiter='\\t',names=['label','mu','s'])\n",
    "fps = pd.read_csv('full_probs_single.log',delimiter='\\t',names=['label','mu','s'])\n",
    "lb1 = pd.read_csv('lower_bounds.log',delimiter='\\t',names=['label','mu','s'])\n",
    "lbs = pd.read_csv('lower_bounds_single.log',delimiter='\\t',names=['label','mu','s'])\n",
    "dfs = [fp1,lb1]"
   ]
  },
  {
   "cell_type": "code",
   "execution_count": null,
   "metadata": {},
   "outputs": [],
   "source": []
  },
  {
   "cell_type": "code",
   "execution_count": null,
   "metadata": {},
   "outputs": [],
   "source": [
    "fig = plt.figure(figsize=(12,8))\n",
    "def pname(s):\n",
    "    try: \n",
    "        int(s)\n",
    "        return \"Points = \" + s\n",
    "    except ValueError:\n",
    "        if s == 'tri':\n",
    "            return 'Triangle'\n",
    "        elif s == 'mpt':\n",
    "            return 'Centroid'\n",
    "        elif s == 'com':\n",
    "            return 'Area × Centroid'\n",
    "        else:\n",
    "            return s\n",
    "\n",
    "for idx,df in enumerate(dfs[-1:]):\n",
    "    ind = np.arange(1,df.shape[0]+1)\n",
    "    # inferno summer magma\n",
    "    ax = plt.gca()#plt.subplot(2,1,idx+1)\n",
    "    colors =[_['color'] for _ in list(plt.rcParams['axes.prop_cycle'])[:3]]\n",
    "    colors = colors + [plt.cm.inferno(i/float(df.shape[0]-1)) for i in range(df.shape[0]-3)]\n",
    "    #print(colors)\n",
    "    ax.bar(np.arange(1, df.shape[0]+1), -df.mu, yerr=df.s*2, align='center', \n",
    "           alpha=0.66, ecolor='black', capsize=7, color=colors)\n",
    "    #if idx != 0:\n",
    "    ax.set_xticklabels([pname(_) for _ in df.label],rotation=75,fontdict={'fontsize':14})\n",
    "    #else:\n",
    "    #    ax.set_xticklabels([])\n",
    "    ax.set_xticks(ind)\n",
    "    if idx == 0:\n",
    "        ax.set_ylabel('average negative log-likelihood')\n",
    "    else:\n",
    "        ax.set_ylabel('average of all mixture & sample log-likelihoods')\n",
    "    #ax.set_ylim((df.mu-2.5*df.s).min(),(df.mu+2.5*df.s).max())\n",
    "    plt.hlines(-df.iloc[0,1],1,ind.max()+0.5,linestyles='--')\n",
    "    #ax.set_ylim([0, 100])\n",
    "    #ax.set_ylabel('Percent usage')\n",
    "    #ax.set_title('System Monitor')\n",
    "    ax.set_ylim([30000,45000])\n",
    "#plt.tight_layout()\n",
    "fig.suptitle(\"Numerical evaluation of likelihood expressions\\n for a GMM (k=50) fit to 100,000 points\", fontsize=20)\n",
    "fig.tight_layout(rect=[0, 0.03, 1, 0.9])\n",
    "fig.savefig(\"likelihood3.pdf\")"
   ]
  },
  {
   "cell_type": "markdown",
   "metadata": {},
   "source": [
    "###### "
   ]
  }
 ],
 "metadata": {
  "kernelspec": {
   "display_name": "Python 3",
   "language": "python",
   "name": "python3"
  },
  "language_info": {
   "codemirror_mode": {
    "name": "ipython",
    "version": 3
   },
   "file_extension": ".py",
   "mimetype": "text/x-python",
   "name": "python",
   "nbconvert_exporter": "python",
   "pygments_lexer": "ipython3",
   "version": "3.6.7"
  }
 },
 "nbformat": 4,
 "nbformat_minor": 2
}
