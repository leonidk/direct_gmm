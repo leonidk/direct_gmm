{
 "cells": [
  {
   "cell_type": "code",
   "execution_count": null,
   "metadata": {},
   "outputs": [],
   "source": [
    "from pylab import *\n",
    "import os\n",
    "import sys\n",
    "from sklearn.mixture import GaussianMixture\n",
    "import pickle\n",
    "from PIL import Image"
   ]
  },
  {
   "cell_type": "code",
   "execution_count": null,
   "metadata": {},
   "outputs": [],
   "source": [
    "dataset_dir = 'rgbd_dataset_freiburg3_long_office_household'\n",
    "depth_dir = 'depth'\n",
    "gmm_dir = 'gmm_qqvga'\n",
    "\n",
    "# og \n",
    "fx = 525.0  # focal length x\n",
    "fy = 525.0  # focal length y\n",
    "cx = 319.5  # optical center x\n",
    "cy = 239.5  # optical center y\n",
    "\n",
    "# fri3 \n",
    "fx = 535.4  # focal length x\n",
    "fy = 539.2  # focal length y\n",
    "cx = 320.1  # optical center x\n",
    "cy = 247.6  # optical center y\n",
    "factor = 5000 # for the 16-bit PNG files\n",
    "# OR: factor = 1 # for the 32-bit float images in the ROS bag files\n",
    "\n",
    "full_depth_dir = os.path.join(dataset_dir,depth_dir)\n"
   ]
  },
  {
   "cell_type": "code",
   "execution_count": null,
   "metadata": {},
   "outputs": [],
   "source": [
    "y_grid = np.repeat(np.arange(480)[:,None],640,1)\n",
    "x_grid = np.repeat(np.arange(640)[None,:],480,0)\n",
    "\n",
    "def img_to_pts(img):\n",
    "    Z = img/factor\n",
    "    X = (x_grid-cx) * Z /fx\n",
    "    Y = (y_grid-cy) * Z /fy\n",
    "    #for v in range(depth_image.height):\n",
    "    #  for u in range(depth_image.width):\n",
    "    #    Z = depth_image[v,u] / factor;\n",
    "    #    X = (u - cx) * Z / fx;\n",
    "    #    Y = (v - cy) * Z / fy;\n",
    "    X = X[::4,::4]\n",
    "    Y = Y[::4,::4]\n",
    "    Z = Z[::4,::4]\n",
    "\n",
    "    xl = X[Z > 0]\n",
    "    yl = Y[Z > 0]\n",
    "    zl = Z[Z > 0]\n",
    "    n = zl.shape[0]\n",
    "    idx = np.random.randint(n, size=n//16)\n",
    "\n",
    "    return np.vstack([xl,yl,zl]).T\n",
    "\n",
    "def load_data(file):\n",
    "    image = Image.open(file)   \n",
    "    pixel = np.array(image)\n",
    "    return img_to_pts(pixel)\n",
    "\n",
    "dataset = []\n",
    "names = []\n",
    "for fl in sorted(os.listdir(full_depth_dir)):\n",
    "    name,ext = os.path.splitext(fl)\n",
    "    data = load_data(os.path.join(full_depth_dir,fl))\n",
    "    dataset.append(data)\n",
    "    names.append(name)\n"
   ]
  },
  {
   "cell_type": "code",
   "execution_count": null,
   "metadata": {},
   "outputs": [],
   "source": [
    "%matplotlib notebook\n",
    "from mpl_toolkits.mplot3d import Axes3D\n",
    "from mpl_toolkits.mplot3d.art3d import Poly3DCollection\n",
    "import matplotlib.pyplot as plt\n",
    "from matplotlib.colors import LightSource"
   ]
  },
  {
   "cell_type": "code",
   "execution_count": null,
   "metadata": {},
   "outputs": [],
   "source": [
    "name_times = [float(_) for _ in names]"
   ]
  },
  {
   "cell_type": "code",
   "execution_count": null,
   "metadata": {},
   "outputs": [],
   "source": [
    "import pandas as pd\n",
    "gt = pd.read_csv('rgbd_dataset_freiburg3_long_office_household-groundtruth.txt',' ',comment='#',header=None,names='timestamp tx ty tz qx qy qz qw'.split(' '))\n",
    "def row_to_vec(row):\n",
    "    a = np.array(row)\n",
    "    return a[1:4], a[4:]\n",
    "from scipy.spatial.distance import cdist, pdist\n",
    "time_dists = cdist(np.array(gt.timestamp)[:,None],np.array(name_times)[:,None])\n",
    "matches = time_dists.argmin(axis=0)\n",
    "\n",
    "start_idx = matches[25]\n",
    "end_idx = matches[125]\n",
    "\n",
    "frm = row_to_vec(gt.iloc[start_idx])\n",
    "to = row_to_vec(gt.iloc[end_idx])\n",
    "print(gt.timestamp[end_idx] - gt.timestamp[start_idx])\n",
    "\n",
    "start_idx,end_idx\n"
   ]
  },
  {
   "cell_type": "code",
   "execution_count": null,
   "metadata": {},
   "outputs": [],
   "source": [
    "for i in range(len(matches)-1):\n",
    "    f1idx = matches[i]\n",
    "    f2idx = matches[i+1]\n",
    "    f1 = row_to_vec(gt.iloc[f1idx])\n",
    "    f2 = row_to_vec(gt.iloc[f2idx])\n",
    "\n",
    "    print(f1)"
   ]
  },
  {
   "cell_type": "code",
   "execution_count": null,
   "metadata": {},
   "outputs": [],
   "source": [
    "frm,to"
   ]
  },
  {
   "cell_type": "code",
   "execution_count": null,
   "metadata": {},
   "outputs": [],
   "source": [
    "fig = plt.figure()\n",
    "ax = Axes3D(fig)\n",
    "\n",
    "start_frame = dataset[start_idx][np.random.randint(0,dataset[start_idx].shape[0],1000)]\n",
    "end_frame = dataset[end_idx][np.random.randint(0,dataset[end_idx].shape[0],1000)]\n",
    "\n",
    "ax.scatter(start_frame[:,0],start_frame[:,1],start_frame[:,2])\n",
    "ax.scatter(end_frame[:,0],end_frame[:,1],end_frame[:,2])\n",
    "ax.set_xlim(-1.5,1.5)\n",
    "ax.set_ylim(-1.5,1.5)\n",
    "ax.set_zlim(0,3)"
   ]
  },
  {
   "cell_type": "code",
   "execution_count": null,
   "metadata": {},
   "outputs": [],
   "source": [
    "import transforms3d\n",
    "fig = plt.figure()\n",
    "ax = Axes3D(fig)\n",
    "\n",
    "start_frame = dataset[start_idx][np.random.randint(0,dataset[start_idx].shape[0],1000)]\n",
    "end_frame = dataset[end_idx][np.random.randint(0,dataset[end_idx].shape[0],1000)]\n",
    "\n",
    "r1 = transforms3d.quaternions.quat2mat(to[1])\n",
    "r2 = transforms3d.quaternions.quat2mat(frm[1])\n",
    "r1 = np.identity(3)\n",
    "r2 = np.identity(3)\n",
    "\n",
    "end_frame = end_frame + (to[0]-frm[0])\n",
    "end_frame = (r1 @ r2.T @(end_frame - end_frame.mean(0)).T).T + end_frame.mean(0)\n",
    "\n",
    "ax.scatter(start_frame[:,0],start_frame[:,1],start_frame[:,2])\n",
    "ax.scatter(end_frame[:,0],end_frame[:,1],end_frame[:,2])\n",
    "ax.set_xlim(-2,2)\n",
    "ax.set_ylim(-2,2)\n",
    "ax.set_zlim(0.5,4.5)"
   ]
  },
  {
   "cell_type": "code",
   "execution_count": null,
   "metadata": {},
   "outputs": [],
   "source": []
  }
 ],
 "metadata": {
  "kernelspec": {
   "display_name": "Python 3",
   "language": "python",
   "name": "python3"
  },
  "language_info": {
   "codemirror_mode": {
    "name": "ipython",
    "version": 3
   },
   "file_extension": ".py",
   "mimetype": "text/x-python",
   "name": "python",
   "nbconvert_exporter": "python",
   "pygments_lexer": "ipython3",
   "version": "3.6.7"
  }
 },
 "nbformat": 4,
 "nbformat_minor": 2
}
