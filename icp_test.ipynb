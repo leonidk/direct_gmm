{
 "cells": [
  {
   "cell_type": "code",
   "execution_count": null,
   "metadata": {},
   "outputs": [],
   "source": [
    "import pymesh\n",
    "import numpy as np\n",
    "import transforms3d\n",
    "from scipy.spatial.distance import cdist,pdist\n",
    "from mpl_toolkits.mplot3d import Axes3D\n",
    "\n",
    "import matplotlib.pyplot as plt\n",
    "import matplotlib\n"
   ]
  },
  {
   "cell_type": "code",
   "execution_count": null,
   "metadata": {},
   "outputs": [],
   "source": [
    "mesh_pts = pymesh.load_mesh(\"bunny/bun_zipper_res4_sds.ply\")\n",
    "mesh0 = pymesh.load_mesh(\"bunny/bun_zipper_res4.ply\")\n",
    "SAMPLE_PTS = 453\n",
    "full_points = mesh0.vertices\n",
    "t = np.random.rand(3)*0.1 - 0.05\n",
    "angles = np.random.rand(3)*30 - 15\n",
    "angles *= np.pi/180.0\n",
    "#angles *= 0 \n",
    "M = transforms3d.euler.euler2mat(angles[0],angles[1],angles[2])\n",
    "true_q = transforms3d.quaternions.mat2quat(M)\n",
    "indices = np.random.randint(0,full_points.shape[0],SAMPLE_PTS)\n",
    "samples= full_points#[indices]\n",
    "source = (samples-samples.mean(0)) @ M  + samples.mean(0) + t"
   ]
  },
  {
   "cell_type": "code",
   "execution_count": null,
   "metadata": {},
   "outputs": [],
   "source": [
    "icp_t = np.zeros(3)\n",
    "R = np.identity(3)\n",
    "source2 = np.copy(source)\n",
    "prev_err = 100000000\n",
    "indices2 = np.random.randint(0,full_points.shape[0],SAMPLE_PTS)\n",
    "samples_for_icp = np.copy(samples) #full_points[indices2]\n",
    "flag = True\n",
    "icp_q = np.array([1,0,0,0])\n",
    "for icp_iter in range(50):\n",
    "    fig = plt.figure()\n",
    "    ax = fig.add_subplot(111, projection='3d')\n",
    "    ax.scatter(samples[:,0],samples[:,1],samples[:,2],label='orig',alpha=0.5)\n",
    "\n",
    "    ax.scatter(source[:,0],source[:,1],source[:,2],label='trans',alpha=0.5)    \n",
    "    result = (source - icp_t) \n",
    "    result = (result - result.mean(0)) @ R.T + result.mean(0)\n",
    "    ax.scatter(result[:,0],result[:,1],result[:,2],label='registered',alpha=0.8,s=4)\n",
    "    plt.title('{:.3f}  {:.3f}   {:.3f}'.format(icp_q.dot(transforms3d.quaternions.qconjugate(true_q)),icp_q.dot(true_q),np.linalg.norm(icp_t-t)) )\n",
    "    plt.legend()\n",
    "    plt.show()\n",
    "    \n",
    "    dist = cdist(source2,samples_for_icp)\n",
    "    sample_idx = np.argmin(dist,1)\n",
    "    matched_pts = samples_for_icp[sample_idx]\n",
    "    it =  source2.mean(0) - matched_pts.mean(0)\n",
    "    if flag:\n",
    "        idx2 = np.argmin(dist,0)\n",
    "        matched2 = source2[idx2]\n",
    "        it += matched2.mean(0) - samples_for_icp.mean(0)\n",
    "\n",
    "    H = (source2-source2.mean(0)).T @ (matched_pts-matched_pts.mean(0))\n",
    "    if flag:\n",
    "        H2 = (matched2-matched2.mean(0)).T @ (samples_for_icp-samples_for_icp.mean(0))\n",
    "        H2 *= source2.shape[0]/samples_for_icp.shape[0]\n",
    "        H = H + H2\n",
    "    u,s,vt = np.linalg.svd(H)\n",
    "    rotmat = vt.T @ np.diag([1,1,np.linalg.det(vt.T @ u.T)]) @ u.T\n",
    "    rotmat = rotmat.T\n",
    "    #print(rotmat,'\\n',M)\n",
    "    #print(it,'\\n',t)\n",
    "\n",
    "    source2 = (source2 - source2.mean(0)) @ rotmat + source2.mean(0) - it \n",
    "    err = np.linalg.norm(source2-matched_pts,axis=1)\n",
    "    err = err.mean()\n",
    "    #print(err)\n",
    "    #print(np.diag(cdist(source2,matched_pts)).mean(),len(matched_pts))\n",
    "    if np.linalg.norm(err-prev_err) < 1e-6:\n",
    "        break\n",
    "    prev_err = err\n",
    "    icp_t += it\n",
    "    R = R @ rotmat.T\n",
    "    #print(it)\n",
    "    #print(rotmat)\n",
    "\n",
    "    icp_q = transforms3d.quaternions.mat2quat(R)\n",
    "    icp_t = icp_t\n",
    "\n"
   ]
  },
  {
   "cell_type": "code",
   "execution_count": null,
   "metadata": {},
   "outputs": [],
   "source": [
    "t,icp_t"
   ]
  },
  {
   "cell_type": "code",
   "execution_count": null,
   "metadata": {},
   "outputs": [],
   "source": [
    "%matplotlib notebook\n",
    "fig = plt.figure()\n",
    "ax = fig.add_subplot(111, projection='3d')\n",
    "ax.scatter(samples[:,0],samples[:,1],samples[:,2],label='orig',alpha=0.5)\n",
    "\n",
    "ax.scatter(source[:,0],source[:,1],source[:,2],label='trans',alpha=0.5)    \n",
    "result = (source - icp_t) \n",
    "result = (result - result.mean(0)) @ R.T + result.mean(0)\n",
    "ax.scatter(result[:,0],result[:,1],result[:,2],label='registered',alpha=0.8,s=4)\n",
    "plt.title('{:.3f}  {:.3f}   {:.3f}'.format(icp_q.dot(transforms3d.quaternions.qconjugate(true_q)),icp_q.dot(true_q),np.linalg.norm(icp_t-t)) )\n",
    "plt.legend()\n",
    "plt.show()\n",
    "    "
   ]
  },
  {
   "cell_type": "code",
   "execution_count": null,
   "metadata": {},
   "outputs": [],
   "source": [
    "res = source\n",
    "res = (res - res.mean(0)) @ M.T + res.mean(0) - t\n",
    "res"
   ]
  },
  {
   "cell_type": "code",
   "execution_count": null,
   "metadata": {},
   "outputs": [],
   "source": [
    "source2"
   ]
  },
  {
   "cell_type": "code",
   "execution_count": null,
   "metadata": {},
   "outputs": [],
   "source": [
    "np.diag(cdist(res,matched_pts)).mean()"
   ]
  },
  {
   "cell_type": "code",
   "execution_count": null,
   "metadata": {},
   "outputs": [],
   "source": [
    "np.diag(cdist(matched_pts,samples)).mean()"
   ]
  },
  {
   "cell_type": "code",
   "execution_count": null,
   "metadata": {},
   "outputs": [],
   "source": [
    "%matplotlib notebook\n",
    "# 'GTK3Agg', 'GTK3Cairo', 'MacOSX', 'nbAgg', 'Qt4Agg', 'Qt4Cairo', 'Qt5Agg', 'Qt5Cairo', 'TkAgg', 'TkCairo', 'WebAgg', 'WX', 'WXAgg', 'WXCairo', 'agg', 'cairo', 'pdf', 'pgf', 'ps', 'svg', 'template'"
   ]
  },
  {
   "cell_type": "code",
   "execution_count": null,
   "metadata": {},
   "outputs": [],
   "source": [
    "from functools import partial\n",
    "import matplotlib.pyplot as plt\n",
    "from mpl_toolkits.mplot3d import Axes3D\n",
    "from pycpd import rigid_registration\n",
    "import numpy as np\n",
    "import time\n",
    "\n",
    "def visualize(iteration, error, X, Y, ax):\n",
    "    plt.cla()\n",
    "    ax.scatter(X[:,0],  X[:,1], X[:,2], color='red', label='Target')\n",
    "    ax.scatter(Y[:,0],  Y[:,1], Y[:,2], color='blue', label='Source')\n",
    "    ax.text2D(0.87, 0.92, 'Iteration: {:d}\\nError: {:06.4f}'.format(iteration, error), horizontalalignment='center', verticalalignment='center', transform=ax.transAxes, fontsize='x-large')\n",
    "    ax.legend(loc='upper left', fontsize='x-large')\n",
    "    plt.draw()\n",
    "    plt.pause(0.001)\n",
    "\n",
    "fig = plt.figure()\n",
    "ax = fig.add_subplot(111, projection='3d')\n",
    "callback = partial(visualize, ax=ax)\n",
    "\n",
    "reg = rigid_registration(**{ 'X': source, 'Y': samples_for_icp })\n",
    "reg.register(callback)\n",
    "plt.show()\n",
    "\n"
   ]
  },
  {
   "cell_type": "code",
   "execution_count": null,
   "metadata": {},
   "outputs": [],
   "source": [
    "reg = rigid_registration(**{ 'X': source, 'Y': samples_for_icp, 'max_iterations':500,'tolerance':1e-8 })\n"
   ]
  },
  {
   "cell_type": "code",
   "execution_count": null,
   "metadata": {},
   "outputs": [],
   "source": [
    " TY, (s_reg, R_reg, t_reg) = reg.register()"
   ]
  },
  {
   "cell_type": "code",
   "execution_count": null,
   "metadata": {},
   "outputs": [],
   "source": [
    "R_reg"
   ]
  },
  {
   "cell_type": "code",
   "execution_count": null,
   "metadata": {},
   "outputs": [],
   "source": [
    "s_reg"
   ]
  },
  {
   "cell_type": "code",
   "execution_count": null,
   "metadata": {},
   "outputs": [],
   "source": [
    "TY"
   ]
  },
  {
   "cell_type": "code",
   "execution_count": null,
   "metadata": {},
   "outputs": [],
   "source": [
    "t_reg,t,np.linalg.norm(t_reg-t)/0.05"
   ]
  },
  {
   "cell_type": "code",
   "execution_count": null,
   "metadata": {},
   "outputs": [],
   "source": [
    "M"
   ]
  },
  {
   "cell_type": "code",
   "execution_count": null,
   "metadata": {},
   "outputs": [],
   "source": [
    "samples= full_points\n",
    "samples_mean = samples.mean(0)\n",
    "centered_points = samples - samples_mean\n",
    "source = centered_points @ M + samples_mean+ t"
   ]
  },
  {
   "cell_type": "code",
   "execution_count": null,
   "metadata": {},
   "outputs": [],
   "source": [
    "np.linalg.norm( (source-source.mean(0))@M.T +source.mean(0) - t - samples,axis=1).sum()"
   ]
  },
  {
   "cell_type": "code",
   "execution_count": null,
   "metadata": {},
   "outputs": [],
   "source": [
    "samples_mean"
   ]
  },
  {
   "cell_type": "code",
   "execution_count": null,
   "metadata": {},
   "outputs": [],
   "source": [
    "samples_mean.shape"
   ]
  },
  {
   "cell_type": "code",
   "execution_count": null,
   "metadata": {},
   "outputs": [],
   "source": []
  },
  {
   "cell_type": "code",
   "execution_count": null,
   "metadata": {},
   "outputs": [],
   "source": []
  }
 ],
 "metadata": {
  "kernelspec": {
   "display_name": "Python 3",
   "language": "python",
   "name": "python3"
  },
  "language_info": {
   "codemirror_mode": {
    "name": "ipython",
    "version": 3
   },
   "file_extension": ".py",
   "mimetype": "text/x-python",
   "name": "python",
   "nbconvert_exporter": "python",
   "pygments_lexer": "ipython3",
   "version": "3.6.7"
  }
 },
 "nbformat": 4,
 "nbformat_minor": 2
}
